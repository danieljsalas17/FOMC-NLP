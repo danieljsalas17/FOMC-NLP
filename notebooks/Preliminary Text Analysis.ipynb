{
 "cells": [
  {
   "cell_type": "markdown",
   "metadata": {},
   "source": [
    "## Preliminary Text Analysis\n",
    "\n",
    "In this notebook, my intention is to get a sense of what kind of inferences we can draw from different NLP techniques on Federal Reserve Press Releases. The sample dataset will contain a few scattered documents from various time periods. First, I will do some unsupervised learning, i.e. cluster analysis. Then, I will try a few supervised learning models with a few different target variables. \n",
    "\n",
    "### Unsupervised Learning Methods\n",
    "\n",
    "Cluster analysis, PCA, SVD, and possibly autoencoding NNs. \n",
    "\n"
   ]
  },
  {
   "cell_type": "code",
   "execution_count": 1,
   "metadata": {},
   "outputs": [],
   "source": [
    "import numpy as np\n",
    "import pandas as pd\n",
    "import matplotlib.pyplot as plt\n",
    "import matplotlib\n",
    "from sklearn.feature_extraction.text import TfidfVectorizer\n",
    "from sklearn.decomposition import PCA, NMF\n",
    "import Stemmer\n",
    "plt.style.use('ggplot')\n"
   ]
  },
  {
   "cell_type": "code",
   "execution_count": 2,
   "metadata": {},
   "outputs": [],
   "source": [
    "df = pd.read_json('../data/fed_sample_statements.json')\n",
    "df.sort_index(inplace=True)"
   ]
  },
  {
   "cell_type": "code",
   "execution_count": 3,
   "metadata": {},
   "outputs": [],
   "source": [
    "df.data = pd.to_datetime(df.data)\n"
   ]
  },
  {
   "cell_type": "code",
   "execution_count": 4,
   "metadata": {},
   "outputs": [],
   "source": [
    "vectorizer = TfidfVectorizer(stop_words='english',strip_accents='ascii')"
   ]
  },
  {
   "cell_type": "code",
   "execution_count": 5,
   "metadata": {},
   "outputs": [],
   "source": [
    "X = vectorizer.fit_transform(df.doc)"
   ]
  },
  {
   "cell_type": "markdown",
   "metadata": {},
   "source": [
    "### Better TFIDF Vectorizer"
   ]
  },
  {
   "cell_type": "code",
   "execution_count": 6,
   "metadata": {},
   "outputs": [],
   "source": [
    "english_stemmer = Stemmer.Stemmer('en')\n",
    "class StemmedTfidfVectorizer(TfidfVectorizer):\n",
    "    def build_analyzer(self):\n",
    "        analyzer = super(TfidfVectorizer, self).build_analyzer()\n",
    "        return lambda doc: english_stemmer.stemWords(analyzer(doc))"
   ]
  },
  {
   "cell_type": "code",
   "execution_count": 7,
   "metadata": {},
   "outputs": [],
   "source": [
    "vectorizer = StemmedTfidfVectorizer(stop_words='english',strip_accents='ascii')"
   ]
  },
  {
   "cell_type": "code",
   "execution_count": 8,
   "metadata": {},
   "outputs": [],
   "source": [
    "X = vectorizer.fit_transform(df.doc)"
   ]
  },
  {
   "cell_type": "markdown",
   "metadata": {},
   "source": [
    "### Unsupervised Learning\n",
    "First get principle components. Then we can try clusters."
   ]
  },
  {
   "cell_type": "code",
   "execution_count": 61,
   "metadata": {},
   "outputs": [],
   "source": [
    "n_components = 15\n",
    "pca = PCA(n_components=n_components)\n",
    "x = pca.fit_transform(X.toarray())"
   ]
  },
  {
   "cell_type": "code",
   "execution_count": 54,
   "metadata": {},
   "outputs": [
    {
     "data": {
      "text/plain": [
       "(21, 10)"
      ]
     },
     "execution_count": 54,
     "metadata": {},
     "output_type": "execute_result"
    }
   ],
   "source": [
    "x.shape"
   ]
  },
  {
   "cell_type": "code",
   "execution_count": 97,
   "metadata": {},
   "outputs": [
    {
     "data": {
      "image/png": "[encoded data removed]",
      "text/plain": [
       "<Figure size 720x432 with 2 Axes>"
      ]
     },
     "metadata": {},
     "output_type": "display_data"
    }
   ],
   "source": [
    "# color by year\n",
    "z = df.data.dt.year\n",
    "\n",
    "# plots\n",
    "fig, ax = plt.subplots(figsize=(10,6))\n",
    "ax.scatter(x[:,0],x[:,1],c=z)\n",
    "ax.set_xlabel('P1')\n",
    "ax.set_ylabel('P2')\n",
    "\n",
    "# construct color scale next to plot\n",
    "normalize = matplotlib.colors.Normalize(vmin=min(z), vmax=max(z))\n",
    "cax, _ = matplotlib.colorbar.make_axes(ax)\n",
    "cbar = matplotlib.colorbar.ColorbarBase(cax,norm=normalize)\n",
    "plt.show()"
   ]
  },
  {
   "cell_type": "markdown",
   "metadata": {},
   "source": [
    "Does look like language in the statements changes over time. I wonder what the principal component analysis is picking up so strongly. I want to examine the words and how they relate to each PC."
   ]
  },
  {
   "cell_type": "code",
   "execution_count": 99,
   "metadata": {},
   "outputs": [
    {
     "data": {
      "text/plain": [
       "array([0, 1, 2, 3, 6, 4, 5])"
      ]
     },
     "execution_count": 99,
     "metadata": {},
     "output_type": "execute_result"
    }
   ],
   "source": [
    "example = np.array(range(-5,2))\n",
    "np.argsort(abs(example))[::-1]"
   ]
  },
  {
   "cell_type": "code",
   "execution_count": 100,
   "metadata": {
    "scrolled": true
   },
   "outputs": [
    {
     "data": {
      "text/plain": [
       "{'P1': {'item': 0.2742486701148378,\n",
       "  'slow': -0.18082861941700046,\n",
       "  'jeremi': 0.17951866368562674,\n",
       "  'loretta': 0.1687423197553836,\n",
       "  'recogn': 0.16355819791799062,\n",
       "  'auction': -0.15670004935936424,\n",
       "  'activ': -0.13526039887970456,\n",
       "  'medium': 0.13429357262284905,\n",
       "  'add': -0.13125402730959104,\n",
       "  'pressur': 0.12050207773082519},\n",
       " 'P2': {'today': -0.22666003649499936,\n",
       "  'fix': -0.22167707783044974,\n",
       "  'help': -0.1704474645280835,\n",
       "  'quarl': 0.15814771116941004,\n",
       "  'under': -0.15287532951205487,\n",
       "  'have': -0.13703585442468147,\n",
       "  'decemb': 0.13414656248842538,\n",
       "  'omit': 0.12887745847502455,\n",
       "  'pick': 0.12493355666039488,\n",
       "  'accommod': -0.11964727011685045}}"
      ]
     },
     "execution_count": 100,
     "metadata": {},
     "output_type": "execute_result"
    }
   ],
   "source": [
    "feature_names = np.array(vectorizer.get_feature_names())\n",
    "feature_names = feature_names.reshape((len(feature_names),1))\n",
    "\n",
    "# Customizable for examining other PC's\n",
    "m_components = 2\n",
    "principal_m = pca.components_[0:m_components,:]\n",
    "principal_m = principal_m.reshape((len(feature_names),m_components))\n",
    "\n",
    "# find top 10 words associated with each component\n",
    "PC_top10s = {}\n",
    "\n",
    "for p in range(m_components):\n",
    "    top_10_words = {}\n",
    "    mask = np.argsort(abs(principal_m[:,p]))[-10:][::-1]\n",
    "    names, values = feature_names[mask], principal_m[:,p][mask]\n",
    "    for name,val in zip(names,values):\n",
    "        top_10_words[name[0]] = val\n",
    "    PC_top10s['P{}'.format(p+1)] = top_10_words\n",
    "\n",
    "PC_top10s"
   ]
  },
  {
   "cell_type": "markdown",
   "metadata": {},
   "source": [
    "### Scree Plot"
   ]
  },
  {
   "cell_type": "code",
   "execution_count": 101,
   "metadata": {},
   "outputs": [
    {
     "data": {
      "image/png": "[encoded data removed]",
      "text/plain": [
       "<Figure size 432x288 with 1 Axes>"
      ]
     },
     "metadata": {},
     "output_type": "display_data"
    }
   ],
   "source": [
    "plt.plot(range(1,n_components+1),pca.explained_variance_ratio_,'-o')\n",
    "plt.xlabel('# components')\n",
    "plt.ylabel('Proportion Explained Variance')\n",
    "plt.show()"
   ]
  },
  {
   "cell_type": "markdown",
   "metadata": {},
   "source": [
    "Looks like good numbers are 2,5,6,10 for `n_components`. I'm going to go with 6."
   ]
  },
  {
   "cell_type": "code",
   "execution_count": null,
   "metadata": {},
   "outputs": [],
   "source": []
  }
 ],
 "metadata": {
  "kernelspec": {
   "display_name": "Python 3",
   "language": "python",
   "name": "python3"
  },
  "language_info": {
   "codemirror_mode": {
    "name": "ipython",
    "version": 3
   },
   "file_extension": ".py",
   "mimetype": "text/x-python",
   "name": "python",
   "nbconvert_exporter": "python",
   "pygments_lexer": "ipython3",
   "version": "3.7.1"
  }
 },
 "nbformat": 4,
 "nbformat_minor": 2
}
